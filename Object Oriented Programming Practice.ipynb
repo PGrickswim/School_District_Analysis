{
 "cells": [
  {
   "cell_type": "code",
   "execution_count": 20,
   "id": "33f7d52d",
   "metadata": {},
   "outputs": [],
   "source": [
    "class Dog:\n",
    "    def __init__(self, name, color, sound):\n",
    "        self.name = name\n",
    "        self.color = color\n",
    "        self.sound = sound\n",
    "\n",
    "    def bark(self):\n",
    "        return self.sound + ' ' + self.sound"
   ]
  },
  {
   "cell_type": "code",
   "execution_count": 22,
   "id": "960e5ae3",
   "metadata": {},
   "outputs": [
    {
     "name": "stdout",
     "output_type": "stream",
     "text": [
      "Fido\n",
      "brown\n"
     ]
    },
    {
     "data": {
      "text/plain": [
       "'woof! woof!'"
      ]
     },
     "execution_count": 22,
     "metadata": {},
     "output_type": "execute_result"
    }
   ],
   "source": [
    "first_dog = Dog('Fido', 'brown', 'woof!')\n",
    "print(first_dog.name)\n",
    "print(first_dog.color)\n",
    "first_dog.bark()"
   ]
  },
  {
   "cell_type": "code",
   "execution_count": 36,
   "id": "3426252c",
   "metadata": {},
   "outputs": [
    {
     "name": "stdout",
     "output_type": "stream",
     "text": [
      "Saint Louis\n",
      "Atlantic 10\n"
     ]
    },
    {
     "data": {
      "text/plain": [
       "'Win'"
      ]
     },
     "execution_count": 36,
     "metadata": {},
     "output_type": "execute_result"
    }
   ],
   "source": [
    "class Team:\n",
    "    def __init__ (uni, city, conference, result):\n",
    "        uni.city = city\n",
    "        uni.conference = conference\n",
    "        uni.result = result\n",
    "        \n",
    "    def game(uni):\n",
    "        return uni.result\n",
    "        \n",
    "SLU = Team('Saint Louis', 'Atlantic 10', 'Win')\n",
    "print(SLU.city)\n",
    "print(SLU.conference)\n",
    "SLU.game()"
   ]
  },
  {
   "cell_type": "code",
   "execution_count": 37,
   "id": "ab7bc79c",
   "metadata": {},
   "outputs": [
    {
     "name": "stdout",
     "output_type": "stream",
     "text": [
      "Pittsburgh\n",
      "Atlantic 10\n"
     ]
    },
    {
     "data": {
      "text/plain": [
       "'Lose'"
      ]
     },
     "execution_count": 37,
     "metadata": {},
     "output_type": "execute_result"
    }
   ],
   "source": [
    "Duquesne = Team('Pittsburgh', 'Atlantic 10', 'Lose')\n",
    "print(Duquesne.city)\n",
    "print(Duquesne.conference)\n",
    "Duquesne.game()"
   ]
  },
  {
   "cell_type": "code",
   "execution_count": 24,
   "id": "9c6ee49e",
   "metadata": {},
   "outputs": [],
   "source": [
    "class TeamA:\n",
    "    def __init__ (uni, city):\n",
    "        uni.city = city\n",
    "    "
   ]
  },
  {
   "cell_type": "code",
   "execution_count": 13,
   "id": "93090046",
   "metadata": {},
   "outputs": [
    {
     "name": "stdout",
     "output_type": "stream",
     "text": [
      "Saint Louis\n"
     ]
    }
   ],
   "source": [
    "SLU = TeamA('Saint Louis')\n",
    "print(SLU.city)"
   ]
  },
  {
   "cell_type": "code",
   "execution_count": 14,
   "id": "eb39b019",
   "metadata": {},
   "outputs": [
    {
     "name": "stdout",
     "output_type": "stream",
     "text": [
      "Richmond\n"
     ]
    }
   ],
   "source": [
    "VCU = TeamA('Richmond')\n",
    "print(VCU.city)"
   ]
  },
  {
   "cell_type": "code",
   "execution_count": null,
   "id": "f9ee84ec",
   "metadata": {},
   "outputs": [],
   "source": []
  }
 ],
 "metadata": {
  "kernelspec": {
   "display_name": "PythonData",
   "language": "python",
   "name": "pythondata"
  },
  "language_info": {
   "codemirror_mode": {
    "name": "ipython",
    "version": 3
   },
   "file_extension": ".py",
   "mimetype": "text/x-python",
   "name": "python",
   "nbconvert_exporter": "python",
   "pygments_lexer": "ipython3",
   "version": "3.7.11"
  }
 },
 "nbformat": 4,
 "nbformat_minor": 5
}
